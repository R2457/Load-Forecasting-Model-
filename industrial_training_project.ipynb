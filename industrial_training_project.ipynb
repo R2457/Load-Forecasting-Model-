{
 "cells": [
  {
   "cell_type": "code",
   "execution_count": 1,
   "metadata": {},
   "outputs": [
    {
     "ename": "ModuleNotFoundError",
     "evalue": "No module named 'pandas'",
     "output_type": "error",
     "traceback": [
      "\u001b[1;31m---------------------------------------------------------------------------\u001b[0m",
      "\u001b[1;31mModuleNotFoundError\u001b[0m                       Traceback (most recent call last)",
      "\u001b[1;32mc:\\Users\\ritik\\OneDrive\\Documents\\Companies and Certificates\\NIT Patna\\Projects\\Load_Forecasting\\industrial_training_project.ipynb Cell 1\u001b[0m line \u001b[0;36m<cell line: 2>\u001b[1;34m()\u001b[0m\n\u001b[0;32m      <a href='vscode-notebook-cell:/c%3A/Users/ritik/OneDrive/Documents/Companies%20and%20Certificates/NIT%20Patna/Projects/Load_Forecasting/industrial_training_project.ipynb#W0sZmlsZQ%3D%3D?line=0'>1</a>\u001b[0m \u001b[39mimport\u001b[39;00m \u001b[39mtime\u001b[39;00m\n\u001b[1;32m----> <a href='vscode-notebook-cell:/c%3A/Users/ritik/OneDrive/Documents/Companies%20and%20Certificates/NIT%20Patna/Projects/Load_Forecasting/industrial_training_project.ipynb#W0sZmlsZQ%3D%3D?line=1'>2</a>\u001b[0m \u001b[39mimport\u001b[39;00m \u001b[39mpandas\u001b[39;00m \u001b[39mas\u001b[39;00m \u001b[39mpd\u001b[39;00m\n\u001b[0;32m      <a href='vscode-notebook-cell:/c%3A/Users/ritik/OneDrive/Documents/Companies%20and%20Certificates/NIT%20Patna/Projects/Load_Forecasting/industrial_training_project.ipynb#W0sZmlsZQ%3D%3D?line=2'>3</a>\u001b[0m \u001b[39mimport\u001b[39;00m \u001b[39mnumpy\u001b[39;00m \u001b[39mas\u001b[39;00m \u001b[39mnp\u001b[39;00m\n\u001b[0;32m      <a href='vscode-notebook-cell:/c%3A/Users/ritik/OneDrive/Documents/Companies%20and%20Certificates/NIT%20Patna/Projects/Load_Forecasting/industrial_training_project.ipynb#W0sZmlsZQ%3D%3D?line=3'>4</a>\u001b[0m \u001b[39mfrom\u001b[39;00m \u001b[39mkeras\u001b[39;00m\u001b[39m.\u001b[39;00m\u001b[39mmodels\u001b[39;00m \u001b[39mimport\u001b[39;00m Sequential\n",
      "\u001b[1;31mModuleNotFoundError\u001b[0m: No module named 'pandas'"
     ]
    }
   ],
   "source": [
    "import time\n",
    "import pandas as pd\n",
    "import numpy as np\n",
    "from keras.models import Sequential\n",
    "from keras.layers.core import Dense\n",
    "from keras.layers.recurrent import LSTM\n",
    "from matplotlib import pyplot as plt\n",
    "from math import sqrt"
   ]
  },
  {
   "cell_type": "code",
   "execution_count": null,
   "metadata": {},
   "outputs": [],
   "source": [
    "# input part\n",
    "def get_data():\n",
    "    data = pd.read_csv('data.csv')\n",
    "    df = pd.DataFrame(data)\n",
    "    df.drop(df.columns[[0, 3, 7, 8]], axis=1, inplace=True)\n",
    "    return df"
   ]
  },
  {
   "cell_type": "code",
   "execution_count": null,
   "metadata": {},
   "outputs": [],
   "source": [
    "# cleaning and spliting part\n",
    "def load_data(data, seq_len):\n",
    "    var_count = len(data.columns)\n",
    "    data = data.values\n",
    "    sequence_length = seq_len+1\n",
    "    result = []\n",
    "    for i in range(len(data)-sequence_length):\n",
    "        result.append(data[i:i+sequence_length])\n",
    "    result = np.array(result)\n",
    "    row = round(0.8*result.shape[0])\n",
    "    train = result[:int(row), :]\n",
    "    x_train = train[:, :-1]\n",
    "    y_train = train[:, -1][:, -1]\n",
    "    x_test = result[int(row):, :-1]\n",
    "    y_test = result[int(row):, -1][:, -1]\n",
    "    x_train = np.reshape(\n",
    "        x_train, (x_train.shape[0], x_train.shape[1], var_count))\n",
    "    x_test = np.reshape(\n",
    "        x_test, (x_test.shape[0], x_test.shape[1], var_count))\n",
    "    print(x_train[:3])\n",
    "    print(y_train[:3])\n",
    "    return [x_train, y_train, x_test, y_test]"
   ]
  },
  {
   "cell_type": "code",
   "execution_count": null,
   "metadata": {},
   "outputs": [],
   "source": [
    "# building of untrained data\n",
    "def build_model(layers):\n",
    "    model = Sequential()\n",
    "    model.add(LSTM(50, input_shape=(\n",
    "        layers[1], layers[0]), return_sequences=False))\n",
    "    model.add(Dense(1, activation=\"relu\", kernel_initializer=\"uniform\"))\n",
    "\n",
    "    start = time.time()\n",
    "    model.compile(loss=\"mse\", optimizer=\"rmsprop\", metrics=['accuracy'])\n",
    "    print(\"Compilation Time : \", time.time() - start)\n",
    "    return model"
   ]
  },
  {
   "cell_type": "code",
   "execution_count": null,
   "metadata": {},
   "outputs": [],
   "source": [
    "df = get_data()\n",
    "print(df)"
   ]
  },
  {
   "cell_type": "code",
   "execution_count": null,
   "metadata": {},
   "outputs": [],
   "source": [
    "values = df.values\n",
    "print(values)"
   ]
  },
  {
   "cell_type": "code",
   "execution_count": null,
   "metadata": {},
   "outputs": [],
   "source": [
    "minima = np.amin(values[:, -1])\n",
    "maxima = np.amax(values[:, -1])\n",
    "scaling_parameter = maxima-minima"
   ]
  },
  {
   "cell_type": "code",
   "execution_count": null,
   "metadata": {},
   "outputs": [],
   "source": [
    "values[:, 4] = (values[:, 4] - minima) / scaling_parameter\n",
    "values[:, 0] = (values[:, 0]-np.amin(values[:, 0])) / \\\n",
    "    (np.amax(values[:, 0])-np.amin(values[:, 0]))\n",
    "values[:, 1] = (values[:, 1]-np.amin(values[:, 1])) / \\\n",
    "    (np.amax(values[:, 1])-np.amin(values[:, 1]))\n",
    "values[:, 2] = (values[:, 2]-np.amin(values[:, 2])) / \\\n",
    "    (np.amax(values[:, 2])-np.amin(values[:, 2]))\n",
    "values[:, 3] = (values[:, 3]-np.amin(values[:, 3])) / \\\n",
    "    (np.amax(values[:, 3])-np.amin(values[:, 3]))"
   ]
  },
  {
   "cell_type": "code",
   "execution_count": null,
   "metadata": {},
   "outputs": [],
   "source": [
    "df = pd.DataFrame(values)\n",
    "window = 5\n",
    "x_train, y_train, x_test, y_test = load_data(df[::-1], window)"
   ]
  },
  {
   "cell_type": "code",
   "execution_count": null,
   "metadata": {},
   "outputs": [],
   "source": [
    "print(y_test)"
   ]
  },
  {
   "cell_type": "code",
   "execution_count": null,
   "metadata": {},
   "outputs": [],
   "source": [
    "print(\"x_train\", x_train.shape)\n",
    "print(\"y_train\", y_train.shape)\n",
    "print(\"x_test\", x_test.shape)\n",
    "print(\"y_test\", y_test.shape)"
   ]
  },
  {
   "cell_type": "code",
   "execution_count": null,
   "metadata": {},
   "outputs": [],
   "source": [
    "model = build_model([5, window, 1])"
   ]
  },
  {
   "cell_type": "code",
   "execution_count": null,
   "metadata": {},
   "outputs": [],
   "source": [
    "print(x_train.shape)"
   ]
  },
  {
   "cell_type": "code",
   "execution_count": null,
   "metadata": {},
   "outputs": [],
   "source": [
    "# training part, can also change batch size and epoch to get more better result\n",
    "model.fit(\n",
    "    x_train,\n",
    "    y_train,\n",
    "    batch_size=1024,\n",
    "    epochs=100,\n",
    "    validation_split=0.2,\n",
    "    verbose=2\n",
    ")"
   ]
  },
  {
   "cell_type": "code",
   "execution_count": null,
   "metadata": {},
   "outputs": [],
   "source": [
    "# function to calculate error\n",
    "def mean_absolute_percentage_error(y_true, y_pred):\n",
    "    y_true, y_pred = np.array(y_true), np.array(y_pred)\n",
    "    return np.mean(np.abs((y_true - y_pred)/y_true))*100"
   ]
  },
  {
   "cell_type": "code",
   "execution_count": null,
   "metadata": {},
   "outputs": [],
   "source": [
    "# testing part\n",
    "predicted = model.predict(x_test)\n",
    "predicted = (predicted*scaling_parameter)+minima\n",
    "actual = y_test\n",
    "actual = (actual*scaling_parameter)+minima\n",
    "print(actual)\n",
    "print(predicted)"
   ]
  },
  {
   "cell_type": "code",
   "execution_count": null,
   "metadata": {},
   "outputs": [],
   "source": [
    "mape = sqrt(mean_absolute_percentage_error(predicted, actual))\n",
    "print(\"Test MAPE: %0.3f\" % mape)"
   ]
  },
  {
   "cell_type": "code",
   "execution_count": null,
   "metadata": {},
   "outputs": [],
   "source": [
    "# result presenting part\n",
    "plt.plot(actual[:24], label='Actual', color=\"blue\")\n",
    "plt.plot(predicted[:24], label='Predicted', color=\"red\")\n",
    "plt.ylabel(\"Load(MW)\")\n",
    "plt.title(\"Actual VS Predicted results\")\n",
    "plt.legend()\n",
    "plt.show()"
   ]
  }
 ],
 "metadata": {
  "kernelspec": {
   "display_name": "Python 3",
   "language": "python",
   "name": "python3"
  },
  "language_info": {
   "codemirror_mode": {
    "name": "ipython",
    "version": 3
   },
   "file_extension": ".py",
   "mimetype": "text/x-python",
   "name": "python",
   "nbconvert_exporter": "python",
   "pygments_lexer": "ipython3",
   "version": "3.10.4"
  }
 },
 "nbformat": 4,
 "nbformat_minor": 2
}
